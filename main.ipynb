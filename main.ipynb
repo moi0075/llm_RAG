{
 "cells": [
  {
   "cell_type": "code",
   "execution_count": 1,
   "id": "34d13e03",
   "metadata": {},
   "outputs": [],
   "source": [
    "# !pip install ollama\n",
    "# !pip install langchain chromadb gradio \n",
    "# !pip install -U langchain-community\n",
    "# !pip install pymupdf"
   ]
  },
  {
   "cell_type": "code",
   "execution_count": 1,
   "id": "5eaa0aee",
   "metadata": {},
   "outputs": [],
   "source": [
    "import ollama\n",
    "import gradio as gr\n",
    "import shutil\n",
    "\n",
    "from langchain_community.document_loaders import PyMuPDFLoader\n",
    "from langchain.text_splitter import RecursiveCharacterTextSplitter\n",
    "from langchain.vectorstores import Chroma\n",
    "  \n",
    "from langchain_community.embeddings import OllamaEmbeddings\n",
    "\n",
    "import re\n",
    "import os"
   ]
  },
  {
   "cell_type": "code",
   "execution_count": 13,
   "id": "34e11615",
   "metadata": {},
   "outputs": [],
   "source": [
    "def cleanup_vectorstore():\n",
    "    global vectorstore, retriever\n",
    "    try:\n",
    "        if 'vectorstore' in globals():\n",
    "            del vectorstore\n",
    "        if 'retriever' in globals():\n",
    "            del retriever\n",
    "        print(\"✅ Variables nettoyées\")\n",
    "    except:\n",
    "        pass"
   ]
  },
  {
   "cell_type": "code",
   "execution_count": 25,
   "id": "8e4a30b0",
   "metadata": {},
   "outputs": [],
   "source": [
    "def process_all_pdfs(pdf_folder=\"./pdf\"):\n",
    "    # Nettoyage de la base de données vectorielle avant de la recréer\n",
    "    cleanup_vectorstore()\n",
    "\n",
    "    all_chunks = []\n",
    "    text_splitter = RecursiveCharacterTextSplitter(chunk_size=500, chunk_overlap=100)\n",
    "\n",
    "    for filename in os.listdir(pdf_folder):\n",
    "        filepath = os.path.join(pdf_folder, filename)\n",
    "        loader = PyMuPDFLoader(filepath)\n",
    "        data = loader.load()\n",
    "        chunks = text_splitter.split_documents(data)\n",
    "        # Ajoute le titre du fichier dans les métadonnées\n",
    "        for doc in chunks:\n",
    "            doc.metadata[\"title_\"] = filename\n",
    "        all_chunks.extend(chunks)\n",
    "\n",
    "    for chunk in all_chunks:\n",
    "        metadata = (\n",
    "            \"[source: \" + str(chunk.metadata.get(\"title_\")) +\n",
    "            \" | author: \" + str(chunk.metadata.get(\"author\")) +\n",
    "            \" | creationdate: \" + str(chunk.metadata.get(\"creationdate\")) +\n",
    "            \" | page: \" + str(chunk.metadata.get(\"page\")) + \"]\"\n",
    "        )\n",
    "        chunk.page_content = metadata + \" \" + chunk.page_content\n",
    "    \n",
    "    # Transphorme texte en vecteurs\n",
    "    embeddings = OllamaEmbeddings(model=\"bge-m3\")\n",
    "    # Crée la bd vectorielle\n",
    "    vectorstore = Chroma.from_documents(documents=all_chunks, embedding=embeddings, persist_directory=\"./chroma_db\")\n",
    "    # Object pour la recherche\n",
    "    retriever = vectorstore.as_retriever()\n",
    "\n",
    "    print(\"✅ Base de données vectorielle créée avec succès !\")\n",
    "    return text_splitter, vectorstore, retriever"
   ]
  },
  {
   "cell_type": "code",
   "execution_count": 17,
   "id": "61686757",
   "metadata": {},
   "outputs": [],
   "source": [
    "def combine_docs(docs):\n",
    "    l_docs = []\n",
    "    for doc in docs:\n",
    "        if doc.page_content not in l_docs:\n",
    "            l_docs.append(doc.page_content)\n",
    "    return \"\\n\\n\".join(l_docs)"
   ]
  },
  {
   "cell_type": "code",
   "execution_count": 19,
   "id": "3c0a017d",
   "metadata": {},
   "outputs": [],
   "source": [
    "def ollama_llm(question, context):\n",
    "    formatted_prompt = (\n",
    "        f\"Tu es un assistant expert qui répond en français uniquement.\\n\"\n",
    "        f\"Voici une question posée par un utilisateur, accompagnée d'un contexte issu de documents :\\n\\n\"\n",
    "        f\"Contexte :\\n{context}\\n\\n\"\n",
    "        f\"Question : {question}\\n\\n\"\n",
    "        f\"Fournis une réponse claire, précise et en français uniquement.\"\n",
    "    )\n",
    "    response = ollama.chat(\n",
    "        model=\"gemma3n:e2b\",\n",
    "        messages=[{'role': 'user', 'content': formatted_prompt}]\n",
    "    )\n",
    "\n",
    "    response_content = response['message']['content']\n",
    "    final_answer = re.sub(r'<think>.*?</think>',\n",
    "                          '',\n",
    "                          response_content,\n",
    "                          flags=re.DOTALL).strip()\n",
    "    return final_answer"
   ]
  },
  {
   "cell_type": "markdown",
   "id": "8c425265",
   "metadata": {},
   "source": [
    "# Fonctionnement sans interface"
   ]
  },
  {
   "cell_type": "code",
   "execution_count": 29,
   "id": "2893f60c",
   "metadata": {},
   "outputs": [
    {
     "name": "stdout",
     "output_type": "stream",
     "text": [
      "✅ Variables nettoyées\n",
      "✅ Base de données vectorielle créée avec succès !\n"
     ]
    }
   ],
   "source": [
    "# Création de la base de données vectorielle\n",
    "text_splitter, vectorstore, retriever = process_all_pdfs(\"./pdf\")"
   ]
  },
  {
   "cell_type": "code",
   "execution_count": 31,
   "id": "dfc48883",
   "metadata": {},
   "outputs": [
    {
     "data": {
      "text/plain": [
       "'La hauteur du platané est de 35 mètres et sa largeur est de 20 mètres.'"
      ]
     },
     "execution_count": 31,
     "metadata": {},
     "output_type": "execute_result"
    }
   ],
   "source": [
    "question = \"Quelle est la hauteur du platane ? Et sa largeur ?\"\n",
    "# Recherche dans la base de données vectorielle\n",
    "docs = retriever.get_relevant_documents(question,k=4)\n",
    "combined_text = combine_docs(docs)\n",
    "# Exécution de la requête LLM\n",
    "ollama_llm(question, combined_text)"
   ]
  },
  {
   "cell_type": "markdown",
   "id": "451aa3af",
   "metadata": {},
   "source": [
    "# Avec interface"
   ]
  },
  {
   "cell_type": "code",
   "execution_count": 39,
   "id": "1ed7d6d3",
   "metadata": {},
   "outputs": [],
   "source": [
    "def ask_model(question):\n",
    "    docs = retriever.get_relevant_documents(question, k=4)\n",
    "    combined_text = combine_docs(docs)\n",
    "    response = ollama_llm(question, combined_text)\n",
    "    return response"
   ]
  },
  {
   "cell_type": "code",
   "execution_count": 40,
   "id": "b7aa6f4e",
   "metadata": {},
   "outputs": [
    {
     "name": "stdout",
     "output_type": "stream",
     "text": [
      "* Running on local URL:  http://127.0.0.1:7862\n",
      "* To create a public link, set `share=True` in `launch()`.\n"
     ]
    },
    {
     "data": {
      "text/html": [
       "<div><iframe src=\"http://127.0.0.1:7862/\" width=\"100%\" height=\"500\" allow=\"autoplay; camera; microphone; clipboard-read; clipboard-write;\" frameborder=\"0\" allowfullscreen></iframe></div>"
      ],
      "text/plain": [
       "<IPython.core.display.HTML object>"
      ]
     },
     "metadata": {},
     "output_type": "display_data"
    },
    {
     "data": {
      "text/plain": []
     },
     "execution_count": 40,
     "metadata": {},
     "output_type": "execute_result"
    }
   ],
   "source": [
    "# Création de l'interface\n",
    "interface = gr.Interface(\n",
    "    fn=ask_model,\n",
    "    inputs=gr.Textbox(lines=2, label=\"Pose ta question\"),\n",
    "    outputs=gr.Textbox(label=\"Réponse du modèle\"),\n",
    "    title=\"Interface avec Ollama\",\n",
    "    description=\"Pose une question\"\n",
    ")\n",
    "# Lancement\n",
    "interface.launch()"
   ]
  }
 ],
 "metadata": {
  "kernelspec": {
   "display_name": "llm_env",
   "language": "python",
   "name": "python3"
  },
  "language_info": {
   "codemirror_mode": {
    "name": "ipython",
    "version": 3
   },
   "file_extension": ".py",
   "mimetype": "text/x-python",
   "name": "python",
   "nbconvert_exporter": "python",
   "pygments_lexer": "ipython3",
   "version": "3.10.18"
  }
 },
 "nbformat": 4,
 "nbformat_minor": 5
}
